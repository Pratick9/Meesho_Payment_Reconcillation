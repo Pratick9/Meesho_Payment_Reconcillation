{
  "nbformat": 4,
  "nbformat_minor": 0,
  "metadata": {
    "colab": {
      "provenance": [],
      "collapsed_sections": [],
      "authorship_tag": "ABX9TyMM8yy5z6B8i86d5GT2QNAv",
      "include_colab_link": true
    },
    "kernelspec": {
      "name": "python3",
      "display_name": "Python 3"
    },
    "language_info": {
      "name": "python"
    }
  },
  "cells": [
    {
      "cell_type": "markdown",
      "metadata": {
        "id": "view-in-github",
        "colab_type": "text"
      },
      "source": [
        "<a href=\"https://colab.research.google.com/github/Pratick9/Meesho_Payment_Reconcillation/blob/main/Meesho_Payment_Reconcillation.ipynb\" target=\"_parent\"><img src=\"https://colab.research.google.com/assets/colab-badge.svg\" alt=\"Open In Colab\"/></a>"
      ]
    },
    {
      "cell_type": "code",
      "source": [
        "import pandas as pd\n",
        "from tabulate import tabulate\n",
        "data = pd.read_csv(\"/content/sample_data/Test.csv\")\n",
        "data"
      ],
      "metadata": {
        "id": "Rvb7OJ7RWX4j"
      },
      "execution_count": null,
      "outputs": []
    },
    {
      "cell_type": "code",
      "source": [
        "print(data.info()) "
      ],
      "metadata": {
        "id": "UOGxtcIcZpP4"
      },
      "execution_count": null,
      "outputs": []
    },
    {
      "cell_type": "code",
      "source": [
        "data.Status = data.Status.fillna('Doubt')"
      ],
      "metadata": {
        "id": "3L-M4tecNTHx"
      },
      "execution_count": null,
      "outputs": []
    },
    {
      "cell_type": "code",
      "source": [
        "for i in range(len (data.Status)):\n",
        "  if((data.Status[i]==\"Shipped\" or data.Status[i]==\"Doubt\" )and data.Price[i]>0):\n",
        "    data.Status[i]=\"Delivered\"\n",
        "  if(data.Status[i]==\"Exchange\" and data.Price[i]<=0):\n",
        "    data.Status[i]=\"Doubt\""
      ],
      "metadata": {
        "id": "ef01n84VR3fW"
      },
      "execution_count": null,
      "outputs": []
    },
    {
      "cell_type": "code",
      "source": [
        "def calculate(df,uni_el,uni_st):\n",
        "  sum=[]\n",
        "  x=[]\n",
        "  for i in uni_el:\n",
        "    ctr=0\n",
        "    for colname,colvalue in df.transpose().iterrows():\n",
        "      if(colname==\"Delivered\" or colname==\"Shipped\" or colname==\"Exchange\" or colname==\"Qty\"):\n",
        "        ctr+=df.at[i,colname]\n",
        "    sum.append(ctr)\n",
        "    x.append(\"=\")\n",
        "  return(sum,x)\n",
        "      "
      ],
      "metadata": {
        "id": "sY1N6yDeDB1A"
      },
      "execution_count": null,
      "outputs": []
    },
    {
      "cell_type": "code",
      "source": [
        "uni_el=data.SKU.unique()\n",
        "d=[]\n",
        "for i in uni_el:\n",
        "  ctr=0\n",
        "  df_qty=data[(data.SKU==i)&(data.Qty>1)&(data.Status==('Delivered'or'Shipped' or 'Exchange'))]\n",
        "  for j in df_qty.Qty:\n",
        "    ctr+=j-1\n",
        "  d.append(ctr)\n",
        "print(d)"
      ],
      "metadata": {
        "id": "s03uVIU0SO3X"
      },
      "execution_count": null,
      "outputs": []
    },
    {
      "cell_type": "code",
      "source": [
        "def switch(ch):\n",
        "  if ch==1:\n",
        "    uni_el=data.SKU.unique()\n",
        "    print(*uni_el,sep=\" , \")\n",
        "    inp=input(\"Enter the Sku,from above, you want to check\")\n",
        "    status=input(\"Enter the Status you want check\")\n",
        "    dfn=data[(data.SKU==inp)&(data.Status==status)]\n",
        "    rs=0\n",
        "    for i in dfn.Price:\n",
        "      rs=rs+i\n",
        "    print(\"Data to searched for : \\t\",inp,\"\\t\",status)\n",
        "    print(\"Total Price : Rs \",rs)\n",
        "    print(\"Total count : \",len(dfn))\n",
        "  else:\n",
        "    all_poss=[]\n",
        "    uni_el=data.SKU.unique()\n",
        "    uni_st=data.Status.unique()\n",
        "    for i in range (len(uni_el)):\n",
        "      for j in range (len(uni_st)):\n",
        "        all_poss.append(data[(data.SKU==uni_el[i])&(data.Status==uni_st[j])])\n",
        "    col=[]\n",
        "    ctr=0\n",
        "    for i in range (len(uni_el)):\n",
        "      l=[]\n",
        "      for j in range(len(uni_st)*i,len(uni_st)*(i+1)):  \n",
        "        l.append(len(all_poss[j]))\n",
        "      col.append(l)\n",
        "    df = pd.DataFrame(col, columns =uni_st , dtype = int) \n",
        "    df=df.set_index(uni_el)\n",
        "    df['Qty']=d\n",
        "    sum,x=calculate(df,uni_el,uni_st)\n",
        "    df['']=x\n",
        "    df['Sum']=sum\n",
        "    print(df)\n",
        "\n"
      ],
      "metadata": {
        "id": "e5N8vmbm5MCw"
      },
      "execution_count": null,
      "outputs": []
    },
    {
      "cell_type": "code",
      "source": [
        "ch=int(input(\"Enter Choice 0.For All 1.For Specific \"))\n",
        "switch(ch)"
      ],
      "metadata": {
        "id": "Xg8ciBsW4eGM"
      },
      "execution_count": null,
      "outputs": []
    },
    {
      "cell_type": "code",
      "source": [
        "rs=0\n",
        "for i in data.Price:\n",
        "  rs=rs+i\n",
        "print(\"Total Sale of the month : Rs \",rs)"
      ],
      "metadata": {
        "id": "yKMY9yca1llP"
      },
      "execution_count": null,
      "outputs": []
    }
  ]
}